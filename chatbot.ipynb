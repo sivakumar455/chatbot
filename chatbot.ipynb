{
 "cells": [
  {
   "cell_type": "code",
   "execution_count": 23,
   "metadata": {},
   "outputs": [],
   "source": [
    "import json\n",
    "from sklearn.tree import DecisionTreeClassifier\n",
    "from sklearn.ensemble import RandomForestClassifier\n",
    "from sklearn.pipeline import Pipeline\n",
    "from sklearn.feature_extraction.text import CountVectorizer, TfidfTransformer\n",
    "\n",
    "import re\n",
    "import pandas as pd\n",
    "import numpy as np\n",
    "\n",
    "import nltk\n",
    "from nltk.tokenize import word_tokenize\n",
    "from nltk.stem import WordNetLemmatizer\n",
    "from nltk.corpus import stopwords\n"
   ]
  },
  {
   "cell_type": "code",
   "execution_count": 24,
   "metadata": {},
   "outputs": [],
   "source": [
    "with open('intents.json') as file:\n",
    "    #print(file)\n",
    "    data = json.load(file)\n",
    "\n",
    "#data"
   ]
  },
  {
   "cell_type": "code",
   "execution_count": 25,
   "metadata": {},
   "outputs": [
    {
     "name": "stdout",
     "output_type": "stream",
     "text": [
      "'Hi', 'How are you', 'Is anyone's there?', 'Hello', 'Good day', 'Whats up'\n"
     ]
    },
    {
     "data": {
      "text/plain": [
       "['hi', 'how', 'be', 'anyones', 'hello', 'good', 'day', 'whats']"
      ]
     },
     "execution_count": 25,
     "metadata": {},
     "output_type": "execute_result"
    }
   ],
   "source": [
    "\n",
    "def tokenize(text):\n",
    "    print(text)\n",
    "    word = re.sub(r'[^A-Za-z0-9\\s]', '',text)\n",
    "    #print(word)\n",
    "    words = word_tokenize(word)\n",
    "    #print(words)\n",
    "    lemmatizer = WordNetLemmatizer()\n",
    "    stop_words = set(stopwords.words(\"english\"))\n",
    "    words = [lemmatizer.lemmatize(w.lower(),pos=\"v\") for w in words if w not in stop_words]\n",
    "    #print(words)\n",
    "    return words\n",
    "    \n",
    "    \n",
    "tokenize(\"'Hi', 'How are you', 'Is anyone's there?', 'Hello', 'Good day', 'Whats up'\")  "
   ]
  },
  {
   "cell_type": "code",
   "execution_count": 26,
   "metadata": {},
   "outputs": [
    {
     "name": "stdout",
     "output_type": "stream",
     "text": [
      "['Hi How are you Is anyone there? Hello Good day Whats up', 'cya See you later Goodbye I am Leaving Have a Good day', 'how old how old is tim what is your age how old are you age?', 'what is your name what should I call you whats your name?', 'Id like to buy something whats on the menu what do you reccommend? could i get something to eat', 'when are you guys open what are your hours hours of operation']\n",
      "['greeting', 'goodbye', 'age', 'name', 'shop', 'hours']\n"
     ]
    }
   ],
   "source": [
    "inp = []\n",
    "label = []\n",
    "\n",
    "for intent in data['intents']:\n",
    "    tok = ' '.join(intent['patterns'])\n",
    "    #print(intent['tag'])\n",
    "    #print(intent['patterns'])\n",
    "    #print(tokenize(tok))\n",
    "    inp.append(tok)\n",
    "    label.append(intent['tag'])\n",
    "    #print(intent[\"responses\"])\n",
    "    #print(\" \")\n",
    "\n",
    "print(inp)\n",
    "print(label)"
   ]
  },
  {
   "cell_type": "code",
   "execution_count": 17,
   "metadata": {},
   "outputs": [
    {
     "name": "stdout",
     "output_type": "stream",
     "text": [
      "hi how are you is anyone there? hello good day whats up\n",
      "cya see you later goodbye i am leaving have a good day\n",
      "how old how old is tim what is your age how old are you age?\n",
      "what is your name what should i call you whats your name?\n",
      "id like to buy something whats on the menu what do you reccommend? could i get something to eat\n",
      "when are you guys open what are your hours hours of operation\n",
      "[[0 1 0 0 0 0 1 0 0 1 0 0 1 1 0 0 0 0 0 0 0 0 0 0 0 0 0 0 1]\n",
      " [0 0 0 0 0 1 1 0 0 1 1 0 0 0 0 0 1 1 0 0 0 0 0 0 0 1 0 0 0]\n",
      " [2 0 0 0 0 0 0 0 0 0 0 0 0 0 0 0 0 0 0 0 0 3 0 0 0 0 0 1 0]\n",
      " [0 0 0 1 0 0 0 0 0 0 0 0 0 0 0 0 0 0 0 0 2 0 0 0 0 0 0 0 1]\n",
      " [0 0 1 0 1 0 0 1 1 0 0 0 0 0 0 1 0 0 1 1 0 0 0 0 1 0 2 0 1]\n",
      " [0 0 0 0 0 0 0 0 0 0 0 1 0 0 2 0 0 0 0 0 0 0 1 1 0 0 0 0 0]]\n",
      "['age', 'anyone', 'buy', 'call', 'could', 'cya', 'day', 'eat', 'get', 'good', 'goodbye', 'guy', 'hello', 'hi', 'hours', 'id', 'later', 'leave', 'like', 'menu', 'name', 'old', 'open', 'operation', 'reccommend', 'see', 'something', 'tim', 'whats']\n"
     ]
    }
   ],
   "source": [
    "count_vect = CountVectorizer(tokenizer=tokenize)\n",
    "\n",
    "X = count_vect.fit_transform(inp)\n",
    "\n",
    "print(X.toarray())\n",
    "#tfidf = TfidfTransformer()\n",
    "\n",
    "#model = RandomForestClassifier(random_state=99)\n",
    "\n",
    "print(count_vect.get_feature_names())\n",
    "tfidf = TfidfTransformer()\n",
    "tf = tfidf.fit_transform(X)\n",
    "\n",
    "print(tf.toarray())"
   ]
  },
  {
   "cell_type": "code",
   "execution_count": 27,
   "metadata": {},
   "outputs": [],
   "source": [
    "\n",
    "model_d = DecisionTreeClassifier(random_state=99)\n",
    "model = RandomForestClassifier(random_state=99)\n",
    "\n",
    "pipeline = Pipeline([('vect', CountVectorizer(tokenizer=tokenize)),\n",
    "                    ('tfidf', TfidfTransformer()),\n",
    "                    ('clf', model)])\n",
    "\n",
    "parameters = {'clf__estimator__n_estimators': [100],\n",
    "                'clf__estimator__criterion': ['entropy']\n",
    "            }\n",
    "\n",
    "#pipeline.fit(, label)\n"
   ]
  },
  {
   "cell_type": "code",
   "execution_count": 28,
   "metadata": {},
   "outputs": [
    {
     "name": "stdout",
     "output_type": "stream",
     "text": [
      "hi how are you is anyone there? hello good day whats up\n",
      "cya see you later goodbye i am leaving have a good day\n",
      "how old how old is tim what is your age how old are you age?\n",
      "what is your name what should i call you whats your name?\n",
      "id like to buy something whats on the menu what do you reccommend? could i get something to eat\n",
      "when are you guys open what are your hours hours of operation\n"
     ]
    },
    {
     "name": "stderr",
     "output_type": "stream",
     "text": [
      "/Users/sivakumarpadala/anaconda3/envs/tensorflow_env/lib/python3.6/site-packages/sklearn/ensemble/forest.py:245: FutureWarning: The default value of n_estimators will change from 10 in version 0.20 to 100 in 0.22.\n",
      "  \"10 in version 0.20 to 100 in 0.22.\", FutureWarning)\n"
     ]
    },
    {
     "data": {
      "text/plain": [
       "Pipeline(memory=None,\n",
       "         steps=[('vect',\n",
       "                 CountVectorizer(analyzer='word', binary=False,\n",
       "                                 decode_error='strict',\n",
       "                                 dtype=<class 'numpy.int64'>, encoding='utf-8',\n",
       "                                 input='content', lowercase=True, max_df=1.0,\n",
       "                                 max_features=None, min_df=1,\n",
       "                                 ngram_range=(1, 1), preprocessor=None,\n",
       "                                 stop_words=None, strip_accents=None,\n",
       "                                 token_pattern='(?u)\\\\b\\\\w\\\\w+\\\\b',\n",
       "                                 tokenizer=<function tokenize at...\n",
       "                 RandomForestClassifier(bootstrap=True, class_weight=None,\n",
       "                                        criterion='gini', max_depth=None,\n",
       "                                        max_features='auto',\n",
       "                                        max_leaf_nodes=None,\n",
       "                                        min_impurity_decrease=0.0,\n",
       "                                        min_impurity_split=None,\n",
       "                                        min_samples_leaf=1, min_samples_split=2,\n",
       "                                        min_weight_fraction_leaf=0.0,\n",
       "                                        n_estimators=10, n_jobs=None,\n",
       "                                        oob_score=False, random_state=99,\n",
       "                                        verbose=0, warm_start=False))],\n",
       "         verbose=False)"
      ]
     },
     "execution_count": 28,
     "metadata": {},
     "output_type": "execute_result"
    }
   ],
   "source": [
    "pipeline.fit(inp,label)"
   ]
  },
  {
   "cell_type": "code",
   "execution_count": 45,
   "metadata": {},
   "outputs": [
    {
     "name": "stdout",
     "output_type": "stream",
     "text": [
      "hi how are you is anyone there? hello good day whats up\n",
      "cya see you later goodbye i am leaving have a good day\n",
      "how old how old is tim what is your age how old are you age?\n",
      "what is your name what should i call you whats your name?\n",
      "id like to buy something whats on the menu what do you reccommend? could i get something to eat\n",
      "when are you guys open what are your hours hours of operation\n"
     ]
    }
   ],
   "source": [
    "res = pipeline.predict(inp)"
   ]
  },
  {
   "cell_type": "code",
   "execution_count": 48,
   "metadata": {},
   "outputs": [],
   "source": [
    "pred = (res == label).mean()"
   ]
  },
  {
   "cell_type": "code",
   "execution_count": 49,
   "metadata": {},
   "outputs": [
    {
     "data": {
      "text/plain": [
       "1.0"
      ]
     },
     "execution_count": 49,
     "metadata": {},
     "output_type": "execute_result"
    }
   ],
   "source": [
    "pred"
   ]
  },
  {
   "cell_type": "code",
   "execution_count": 59,
   "metadata": {},
   "outputs": [
    {
     "name": "stdout",
     "output_type": "stream",
     "text": [
      "id like whats menu what eat\n"
     ]
    },
    {
     "data": {
      "text/plain": [
       "array(['name'], dtype='<U8')"
      ]
     },
     "execution_count": 59,
     "metadata": {},
     "output_type": "execute_result"
    }
   ],
   "source": [
    "pipeline.predict([\"id like whats menu what eat\"])"
   ]
  },
  {
   "cell_type": "code",
   "execution_count": 60,
   "metadata": {},
   "outputs": [],
   "source": [
    "from joblib import dump,load"
   ]
  },
  {
   "cell_type": "code",
   "execution_count": 61,
   "metadata": {},
   "outputs": [
    {
     "data": {
      "text/plain": [
       "['chatbot.pkl']"
      ]
     },
     "execution_count": 61,
     "metadata": {},
     "output_type": "execute_result"
    }
   ],
   "source": [
    "dump(pipeline, 'chatbot.pkl')"
   ]
  },
  {
   "cell_type": "code",
   "execution_count": 62,
   "metadata": {},
   "outputs": [],
   "source": [
    "model = load('chatbot.pkl')"
   ]
  },
  {
   "cell_type": "code",
   "execution_count": 66,
   "metadata": {},
   "outputs": [
    {
     "name": "stdout",
     "output_type": "stream",
     "text": [
      "like what's menu what to eat\n"
     ]
    },
    {
     "data": {
      "text/plain": [
       "array(['name'], dtype='<U8')"
      ]
     },
     "execution_count": 66,
     "metadata": {},
     "output_type": "execute_result"
    }
   ],
   "source": [
    "pipeline.predict([\"like what's menu what to\"])"
   ]
  }
 ],
 "metadata": {
  "kernelspec": {
   "display_name": "Python 3",
   "language": "python",
   "name": "python3"
  },
  "language_info": {
   "codemirror_mode": {
    "name": "ipython",
    "version": 3
   },
   "file_extension": ".py",
   "mimetype": "text/x-python",
   "name": "python",
   "nbconvert_exporter": "python",
   "pygments_lexer": "ipython3",
   "version": "3.6.9"
  }
 },
 "nbformat": 4,
 "nbformat_minor": 2
}
